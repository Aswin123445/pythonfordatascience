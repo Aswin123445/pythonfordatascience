{
 "cells": [
  {
   "cell_type": "code",
   "execution_count": 27,
   "id": "96febf2f-e1e4-4e37-bc8c-6ec3067944cd",
   "metadata": {},
   "outputs": [
    {
     "name": "stdin",
     "output_type": "stream",
     "text": [
      "enter the size of the array 6\n",
      "enter the elmeent to the array 100\n",
      "enter the elmeent to the array 45\n",
      "enter the elmeent to the array 78\n",
      "enter the elmeent to the array 1000\n",
      "enter the elmeent to the array 879\n",
      "enter the elmeent to the array 56\n"
     ]
    },
    {
     "name": "stdout",
     "output_type": "stream",
     "text": [
      "[ 100   45   78 1000  879   56]\n",
      "[1000  879  100   78   56   45]\n"
     ]
    }
   ],
   "source": [
    "import numpy as np\n",
    "size=int(input(\"enter the size of the array\"))\n",
    "#creating an empty array\n",
    "arr=np.empty(size,dtype=int)\n",
    "#assigning values to the array\n",
    "for i in range(size):\n",
    "    arr[i]=int(input(\"enter the elmeent to the array\"))\n",
    "#printing the element to the user\n",
    "print(arr)\n",
    "#putting  a selection sort logic to the array\n",
    "#outter loop for sorting\n",
    "for i in range(size):\n",
    "    max_index=i;\n",
    "    #inner loop for checking the largest value in the unserted array\n",
    " \n",
    "    for j in range(i+1,size):\n",
    "        if(arr[max_index]<arr[j]):\n",
    "            max_index=j\n",
    "    if(max_index!=i):\n",
    "        #swapping elements\n",
    "        temp=arr[i]\n",
    "        arr[i]=arr[max_index]\n",
    "        arr[max_index]=temp\n",
    "#printing the desented array\n",
    "print(arr)"
   ]
  },
  {
   "cell_type": "code",
   "execution_count": 6,
   "id": "e7610267-f118-4d7f-8525-108d5fb1e06d",
   "metadata": {},
   "outputs": [
    {
     "name": "stdin",
     "output_type": "stream",
     "text": [
      "enter the size of the array 5\n",
      "enter the element of the array 100\n",
      "enter the element of the array 20\n",
      "enter the element of the array 1000\n",
      "enter the element of the array 56\n",
      "enter the element of the array 785\n"
     ]
    },
    {
     "name": "stdout",
     "output_type": "stream",
     "text": [
      "[1000, 785, 100, 56, 20]\n"
     ]
    }
   ],
   "source": [
    "#selection sort logic using list\n",
    "list=[]\n",
    "size=int(input(\"enter the size of the array\"))\n",
    "#inputing the elements to the list\n",
    "for i in range(size):\n",
    "    data=int(input(\"enter the element of the array\"))\n",
    "    list.append(data)\n",
    "#appling section logic\n",
    "#outer loop \n",
    "for i in range(size):\n",
    "    max_index=i\n",
    "    for j in range(i+1,size):\n",
    "        if(list[max_index]<list[j]):\n",
    "            max_index=j\n",
    "    if(i!=max_index):\n",
    "        temp=list[i]\n",
    "        list[i]=list[max_index]\n",
    "        list[max_index]=temp\n",
    "print(list)"
   ]
  },
  {
   "cell_type": "code",
   "execution_count": 1,
   "id": "82189b89-cce0-4d54-b6e4-17764b39ac1f",
   "metadata": {},
   "outputs": [
    {
     "name": "stdin",
     "output_type": "stream",
     "text": [
      "enter the size of the array 4\n",
      "enter the element of the array 23\n",
      "enter the element of the array 1\n",
      "enter the element of the array 55\n",
      "enter the element of the array 4\n"
     ]
    },
    {
     "name": "stdout",
     "output_type": "stream",
     "text": [
      "[23, 55, 4, 1]\n"
     ]
    }
   ],
   "source": [
    "#insertion sorting in python\n",
    "list=[]\n",
    "size=int(input(\"enter the size of the array\"))\n",
    "#inputing the elements to the list\n",
    "for i in range(size):\n",
    "    data=int(input(\"enter the element of the array\"))\n",
    "    list.append(data)\n",
    "#loop for sorting\n",
    "for i in range(1,size):\n",
    "    key=list[i]\n",
    "    j=i-1\n",
    "    while j>0 and key>list[j]:\n",
    "        list[j+1]=list[j]\n",
    "        j-=1\n",
    "    list[j+1]=key\n",
    "print(list)"
   ]
  },
  {
   "cell_type": "code",
   "execution_count": 10,
   "id": "eed04d24-a154-464b-8f66-0a833d5e5fee",
   "metadata": {},
   "outputs": [
    {
     "data": {
      "text/plain": [
       "[1, 60, 10, 90]"
      ]
     },
     "execution_count": 10,
     "metadata": {},
     "output_type": "execute_result"
    }
   ],
   "source": [
    "def bubbleSort(data):\n",
    "    \n",
    "    for i in range(0, len(data)-1):\n",
    "        for j in range(0,len(data)-1-i):\n",
    "            if data[i] > data[i+1]:\n",
    "                tempValue = data[i]\n",
    "                data[i] = data[i+1]\n",
    "                data[i+1] = tempValue\n",
    "    \n",
    "    return data\n",
    "bubbleSort([1,90,60,10])"
   ]
  }
 ],
 "metadata": {
  "kernelspec": {
   "display_name": "Python 3 (ipykernel)",
   "language": "python",
   "name": "python3"
  },
  "language_info": {
   "codemirror_mode": {
    "name": "ipython",
    "version": 3
   },
   "file_extension": ".py",
   "mimetype": "text/x-python",
   "name": "python",
   "nbconvert_exporter": "python",
   "pygments_lexer": "ipython3",
   "version": "3.11.7"
  }
 },
 "nbformat": 4,
 "nbformat_minor": 5
}
