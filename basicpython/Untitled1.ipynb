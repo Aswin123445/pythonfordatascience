{
 "cells": [
  {
   "cell_type": "code",
   "execution_count": 3,
   "id": "42e8ef22-86ca-40b8-b2f0-8656ccbae5b8",
   "metadata": {},
   "outputs": [
    {
     "name": "stdout",
     "output_type": "stream",
     "text": [
      "chair was of type big and it's price is 500 \n"
     ]
    }
   ],
   "source": [
    "#creating a class of charirs\n",
    "class chairs(object):\n",
    "    foot_number=4\n",
    "    #creating init funtion for initalizing values\n",
    "    def __init__(self,type,price):\n",
    "        self.type=type\n",
    "        self.price=price\n",
    "    #normal funtions\n",
    "    def display(self):\n",
    "        print(\"chair was of type {} and it's price is {} \".format(self.type,self.price))\n",
    "#out of the class file\n",
    "#making a new object of type chairs\n",
    "studiochair=chairs(\"big\",500)\n",
    "studiochair.display()"
   ]
  },
  {
   "cell_type": "code",
   "execution_count": 6,
   "id": "d4ee49a9-5e9e-477f-9068-294887800775",
   "metadata": {},
   "outputs": [
    {
     "name": "stdout",
     "output_type": "stream",
     "text": [
      "the cycle is of type sportive cycle height is 1 and cyclebrand is herculise\n"
     ]
    }
   ],
   "source": [
    "#inheritance in python \n",
    "#single level inheritance \n",
    "#derived class inhert the properties of the parent class only(single parent)\n",
    "\n",
    "#parent class\n",
    "class Parent:\n",
    "    #init method\n",
    "    def __init__(self,cycle_type,cycle_height):\n",
    "        self.cycle_type=cycle_type\n",
    "        self.cycle_height=cycle_height\n",
    "#child class that inherit from the parent class\n",
    "class Child(Parent):\n",
    "    #init method for child class\n",
    "    def __init__(self,cycle_type,cycle_height,brand):\n",
    "        self.brand=brand\n",
    "        Parent.__init__(self,cycle_type,cycle_height)\n",
    "    def display(self):\n",
    "        print(\"the cycle is of type {} cycle height is {} and cyclebrand is {}\".format(self.cycle_type,self.cycle_height,self.brand))\n",
    "#makding object of chil\n",
    "child=Child(\"sportive\",1,\"herculise\")\n",
    "child.display()"
   ]
  },
  {
   "cell_type": "code",
   "execution_count": 13,
   "id": "0ccf44cc-8fe1-4eb8-882f-78897c0cf381",
   "metadata": {},
   "outputs": [
    {
     "name": "stdout",
     "output_type": "stream",
     "text": [
      "name of the dog is kuttu and age of  the dog is 10\n",
      "name of the cat is kuttu and age of  the cat is 10\n"
     ]
    }
   ],
   "source": [
    "#polymorphism example\n",
    "class animals:\n",
    "    def __init__(self,type,legs):\n",
    "        self.type=type\n",
    "        self.legs=legs\n",
    "        \n",
    "class dog(animals):\n",
    "    def __init__(self,type,legs,age,name):\n",
    "        self.name=name\n",
    "        self.age=age\n",
    "        animals.__init__(self,type,legs)\n",
    "    def display(self):\n",
    "        print(\"name of the dog is {} and age of  the dog is {}\".format(self.name,self.age))\n",
    "\n",
    "class cat(animals):\n",
    "    def __init__(self,type,legs,age,name):\n",
    "        self.age=age\n",
    "        self.name=name\n",
    "        animals.__init__(self,type,legs)\n",
    "    def display(self):\n",
    "        print(\"name of the cat is {} and age of  the cat is {}\".format(self.name,self.age))\n",
    "#creating a instance of dogs and cats\n",
    "dog1=dog(\"dog\",4,10,\"kuttu\")\n",
    "cat1=cat(\"dog\",4,10,\"kuttu\")\n",
    "dog1.display()\n",
    "cat1.display()"
   ]
  },
  {
   "cell_type": "code",
   "execution_count": 6,
   "id": "15c43d90-85dd-4c4c-a4a4-4e06a3866fda",
   "metadata": {},
   "outputs": [
    {
     "name": "stdout",
     "output_type": "stream",
     "text": [
      "100\n"
     ]
    }
   ],
   "source": [
    "from collections import namedtuple\n",
    "School=namedtuple(\"School\",[\"name\",\"number_of_teachers\",\"number_students\"])\n",
    "school1=School(\"mannarkad\",45,100)\n",
    "print(school1.number_students)"
   ]
  }
 ],
 "metadata": {
  "kernelspec": {
   "display_name": "Python 3 (ipykernel)",
   "language": "python",
   "name": "python3"
  },
  "language_info": {
   "codemirror_mode": {
    "name": "ipython",
    "version": 3
   },
   "file_extension": ".py",
   "mimetype": "text/x-python",
   "name": "python",
   "nbconvert_exporter": "python",
   "pygments_lexer": "ipython3",
   "version": "3.11.7"
  }
 },
 "nbformat": 4,
 "nbformat_minor": 5
}
