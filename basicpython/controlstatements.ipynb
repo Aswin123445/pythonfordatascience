{
 "cells": [
  {
   "cell_type": "code",
   "execution_count": 3,
   "id": "7bd39bd1-3f1f-4443-8c97-8fa4d64db43e",
   "metadata": {},
   "outputs": [
    {
     "name": "stdin",
     "output_type": "stream",
     "text": [
      "Enter a number 5\n"
     ]
    },
    {
     "name": "stdout",
     "output_type": "stream",
     "text": [
      "entered number is positve number\n"
     ]
    }
   ],
   "source": [
    "#if statement is used to do particlular set of code based on the condition\n",
    "x=int(input(\"Enter a number\"))\n",
    "if x<0:\n",
    "  x=0\n",
    "  print(\"x is a negative number\")\n",
    "elif x>0:\n",
    "  print(\"entered number is positve number\")\n",
    "else:\n",
    "  print(\"not\")"
   ]
  },
  {
   "cell_type": "code",
   "execution_count": 6,
   "id": "f2227e46-ff90-4006-8d21-b1c3d1f6c60a",
   "metadata": {},
   "outputs": [
    {
     "name": "stdout",
     "output_type": "stream",
     "text": [
      "aswin   5\n",
      "sandeep   7\n",
      "manoj   5\n",
      "sacariya   8\n"
     ]
    }
   ],
   "source": [
    "#for loop\n",
    "words=[\"aswin\",\"sandeep\",\"manoj\",\"sacariya\"]\n",
    "for w in words:\n",
    "  print(w,\" \",len(w))"
   ]
  },
  {
   "cell_type": "code",
   "execution_count": 8,
   "id": "5c8123aa-13b4-49c4-b48e-b553eef462fa",
   "metadata": {},
   "outputs": [
    {
     "name": "stdout",
     "output_type": "stream",
     "text": [
      "aswin 5\n",
      "sandeep 7\n",
      "manoj 5\n",
      "sacariya 8\n",
      "['aswin', 'sandeep', 'manoj', 'sacariya']\n"
     ]
    }
   ],
   "source": [
    "#making a copy of the list and playing with the copy\n",
    "for w in words[:]:\n",
    "    print(w,len(w))\n",
    "print(words)"
   ]
  },
  {
   "cell_type": "code",
   "execution_count": 9,
   "id": "c58cb580-f6db-4d45-8994-16e7dd154a89",
   "metadata": {},
   "outputs": [
    {
     "name": "stdout",
     "output_type": "stream",
     "text": [
      "0\n",
      "1\n",
      "2\n",
      "3\n",
      "4\n",
      "5\n",
      "6\n",
      "7\n",
      "8\n",
      "9\n"
     ]
    }
   ],
   "source": [
    "#the range funtion\n",
    "for i in range(10):\n",
    "    print(i)"
   ]
  },
  {
   "cell_type": "code",
   "execution_count": 10,
   "id": "fa4dede8-c2ca-49fc-90aa-17a0b4c6af29",
   "metadata": {},
   "outputs": [
    {
     "name": "stdout",
     "output_type": "stream",
     "text": [
      "1\n",
      "2\n",
      "3\n",
      "4\n",
      "5\n",
      "6\n",
      "7\n",
      "8\n",
      "9\n"
     ]
    }
   ],
   "source": [
    "#range starting from another number\n",
    "for i in range(1,10):\n",
    "    print(i)"
   ]
  },
  {
   "cell_type": "code",
   "execution_count": 13,
   "id": "679b9068-310a-4a2d-bcc8-f1c713a8c57c",
   "metadata": {},
   "outputs": [
    {
     "name": "stdout",
     "output_type": "stream",
     "text": [
      "aswin\n",
      "sandeep\n",
      "manoj\n",
      "sacariya\n"
     ]
    }
   ],
   "source": [
    "#so inside for loop we can compine the len funtion and range funtion to make iteration\n",
    "for w in range(len(words)):\n",
    "    print (words[w])"
   ]
  },
  {
   "cell_type": "code",
   "execution_count": 14,
   "id": "9a712e18-e428-46d1-a3bd-c1e40e08f4ba",
   "metadata": {},
   "outputs": [
    {
     "ename": "KeyboardInterrupt",
     "evalue": "",
     "output_type": "error",
     "traceback": [
      "\u001b[1;31m---------------------------------------------------------------------------\u001b[0m",
      "\u001b[1;31mKeyboardInterrupt\u001b[0m                         Traceback (most recent call last)",
      "Cell \u001b[1;32mIn[14], line 2\u001b[0m\n\u001b[0;32m      1\u001b[0m \u001b[38;5;66;03m# the pass sttement does nothing\u001b[39;00m\n\u001b[1;32m----> 2\u001b[0m \u001b[38;5;28;01mwhile\u001b[39;00m \u001b[38;5;28;01mTrue\u001b[39;00m:\n\u001b[0;32m      3\u001b[0m     \u001b[38;5;28;01mpass\u001b[39;00m\n",
      "\u001b[1;31mKeyboardInterrupt\u001b[0m: "
     ]
    }
   ],
   "source": [
    "# the pass sttement does nothing\n",
    "while True:\n",
    "    pass"
   ]
  },
  {
   "cell_type": "code",
   "execution_count": null,
   "id": "66a2f254-0d75-4765-b4a7-b4786ed90dea",
   "metadata": {},
   "outputs": [],
   "source": []
  }
 ],
 "metadata": {
  "kernelspec": {
   "display_name": "Python 3 (ipykernel)",
   "language": "python",
   "name": "python3"
  },
  "language_info": {
   "codemirror_mode": {
    "name": "ipython",
    "version": 3
   },
   "file_extension": ".py",
   "mimetype": "text/x-python",
   "name": "python",
   "nbconvert_exporter": "python",
   "pygments_lexer": "ipython3",
   "version": "3.11.7"
  }
 },
 "nbformat": 4,
 "nbformat_minor": 5
}
